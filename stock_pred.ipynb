{
 "cells": [
  {
   "cell_type": "code",
   "execution_count": 2,
   "id": "849cb28b",
   "metadata": {},
   "outputs": [],
   "source": [
    "import yfinance as yf\n",
    "from statsmodels.tsa.stattools import adfuller\n",
    "from sklearn.metrics import mean_squared_error,r2_score\n",
    "from statsmodels.tsa.arima.model import ARIMA\n",
    "import numpy as np\n",
    "from sklearn.preprocessing import StandardScaler\n",
    "from datetime import datetime,timedelta\n",
    "import pandas as pd"
   ]
  },
  {
   "cell_type": "code",
   "execution_count": 5,
   "id": "ecef8d77",
   "metadata": {},
   "outputs": [],
   "source": [
    "def get_data(ticker):\n",
    "    stock_data = yf.download(ticker,start='2024-01-01',end='2025-01-01')\n",
    "    return stock_data[['Close']]"
   ]
  },
  {
   "cell_type": "code",
   "execution_count": 6,
   "id": "7ba44994",
   "metadata": {},
   "outputs": [],
   "source": [
    "def stationary_check(close_price):\n",
    "    adf_test = adfuller(close_price)\n",
    "    p_value = round(adf_test[1],3)\n",
    "    return p_value"
   ]
  },
  {
   "cell_type": "code",
   "execution_count": 7,
   "id": "7ce62d8e",
   "metadata": {},
   "outputs": [],
   "source": [
    "def get_rolling_mean(close_price):\n",
    "    rolling_price = close_price.rolling(window=7).mean().dropna()\n",
    "    return rolling_price"
   ]
  },
  {
   "cell_type": "code",
   "execution_count": 8,
   "id": "e1c90cff",
   "metadata": {},
   "outputs": [],
   "source": [
    "def get_differencing_order(close_price):\n",
    "    p_value = stationary_check(close_price)\n",
    "    d=0\n",
    "    while True:\n",
    "        if p_value > 0.05:\n",
    "            d+=1\n",
    "            close_price = close_price.diff().dropna()\n",
    "            p_value = stationary_check(close_price)\n",
    "        else:\n",
    "            break\n",
    "    return d"
   ]
  },
  {
   "cell_type": "code",
   "execution_count": 9,
   "id": "b5061c37",
   "metadata": {},
   "outputs": [],
   "source": [
    "def fit_model(data,differencing_order):\n",
    "    model = ARIMA(data, order=(30,differencing_order,30))\n",
    "    model_fit = model.fit()\n",
    "\n",
    "    forecast_steps = 30\n",
    "    forecast = model_fit.get_forecast(steps=forecast_steps)\n",
    "\n",
    "    predictions=forecast.predicted_mean\n",
    "    return predictions"
   ]
  },
  {
   "cell_type": "code",
   "execution_count": 10,
   "id": "32d36506",
   "metadata": {},
   "outputs": [],
   "source": [
    "def evaluate_model(original_price,differencing_order):\n",
    "    train_data,test_data = original_price[:-30],original_price[-30:]\n",
    "    predictions = fit_model(train_data,differencing_order)\n",
    "    rmse=np.sqrt(mean_squared_error(test_data,predictions))\n",
    "    return round(rmse,2)"
   ]
  },
  {
   "cell_type": "code",
   "execution_count": 11,
   "id": "df1df803",
   "metadata": {},
   "outputs": [],
   "source": [
    "def scaling(close_price):\n",
    "    scaler=StandardScaler()\n",
    "    scaled_data = scaler.fit_transform(np.array(close_price).reshape(-1,1))\n",
    "    return scaled_data,scaler"
   ]
  },
  {
   "cell_type": "code",
   "execution_count": 12,
   "id": "f9127f8b",
   "metadata": {},
   "outputs": [],
   "source": [
    "def get_forecast(original_price,differencing_order):\n",
    "    predictions = fit_model(original_price,differencing_order)\n",
    "    start_date = datetime.now().strftime('%Y-%m-%d')\n",
    "    end_date = (datetime.now()+timedelta(days=29)).strftime('%Y-%m-%d')\n",
    "    forecast_index = pd.date_range(start=start_date,end=end_date,freq='D')\n",
    "    forecast_df = pd.DataFrame(predictions,index=forecast_index,columns=['Close'])\n",
    "    return forecast_df"
   ]
  },
  {
   "cell_type": "code",
   "execution_count": 13,
   "id": "48579695",
   "metadata": {},
   "outputs": [],
   "source": [
    "def inverse_scaling(scaler,scaled_data):\n",
    "    close_price=scaler.inverse_transform(np.array(scaled_data).reshape(-1,1))\n",
    "    return close_price"
   ]
  },
  {
   "cell_type": "code",
   "execution_count": null,
   "id": "098faa30",
   "metadata": {},
   "outputs": [],
   "source": []
  }
 ],
 "metadata": {
  "kernelspec": {
   "display_name": "base",
   "language": "python",
   "name": "python3"
  },
  "language_info": {
   "codemirror_mode": {
    "name": "ipython",
    "version": 3
   },
   "file_extension": ".py",
   "mimetype": "text/x-python",
   "name": "python",
   "nbconvert_exporter": "python",
   "pygments_lexer": "ipython3",
   "version": "3.11.4"
  }
 },
 "nbformat": 4,
 "nbformat_minor": 5
}
